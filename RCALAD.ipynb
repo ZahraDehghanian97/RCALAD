{
  "nbformat": 4,
  "nbformat_minor": 0,
  "metadata": {
    "colab": {
      "name": "RCALAD.ipynb",
      "provenance": [],
      "collapsed_sections": [],
      "authorship_tag": "ABX9TyOIJunCo2O0j0DpJJYVBB2v",
      "include_colab_link": true
    },
    "kernelspec": {
      "name": "python3",
      "display_name": "Python 3"
    },
    "language_info": {
      "name": "python"
    }
  },
  "cells": [
    {
      "cell_type": "markdown",
      "metadata": {
        "id": "view-in-github",
        "colab_type": "text"
      },
      "source": [
        "<a href=\"https://colab.research.google.com/github/zahraDehghanian97/RCALAD/blob/RCALAD/RCALAD.ipynb\" target=\"_parent\"><img src=\"https://colab.research.google.com/assets/colab-badge.svg\" alt=\"Open In Colab\"/></a>"
      ]
    },
    {
      "cell_type": "markdown",
      "metadata": {
        "id": "4P_jI5lleO06"
      },
      "source": [
        "Mount google drive"
      ]
    },
    {
      "cell_type": "code",
      "source": [
        "cd ../"
      ],
      "metadata": {
        "colab": {
          "base_uri": "https://localhost:8080/"
        },
        "id": "OTWusbdu-YGk",
        "outputId": "0a67421b-dac1-4820-ebe3-be1f462c5487"
      },
      "execution_count": 50,
      "outputs": [
        {
          "output_type": "stream",
          "name": "stdout",
          "text": [
            "/content\n"
          ]
        }
      ]
    },
    {
      "cell_type": "code",
      "source": [
        "!rm -rf RCALAD"
      ],
      "metadata": {
        "id": "9jlL36gE-A3C"
      },
      "execution_count": 51,
      "outputs": []
    },
    {
      "cell_type": "code",
      "source": [
        "ls"
      ],
      "metadata": {
        "colab": {
          "base_uri": "https://localhost:8080/"
        },
        "id": "i2SLbhh6-CiE",
        "outputId": "135d774d-e8ff-4f0d-ac8d-c7602ed8f755"
      },
      "execution_count": 52,
      "outputs": [
        {
          "output_type": "stream",
          "name": "stdout",
          "text": [
            "\u001b[0m\u001b[01;34msample_data\u001b[0m/\n"
          ]
        }
      ]
    },
    {
      "cell_type": "code",
      "source": [
        "!git clone https://github.com/zahraDehghanian97/RCALAD"
      ],
      "metadata": {
        "colab": {
          "base_uri": "https://localhost:8080/"
        },
        "id": "0I_7oUdl6hMd",
        "outputId": "b949028e-2c5f-4448-c9bd-76deaada542d"
      },
      "execution_count": 53,
      "outputs": [
        {
          "output_type": "stream",
          "name": "stdout",
          "text": [
            "Cloning into 'RCALAD'...\n",
            "remote: Enumerating objects: 1162, done.\u001b[K\n",
            "remote: Counting objects: 100% (1097/1097), done.\u001b[K\n",
            "remote: Compressing objects: 100% (525/525), done.\u001b[K\n",
            "remote: Total 1162 (delta 575), reused 1038 (delta 532), pack-reused 65\u001b[K\n",
            "Receiving objects: 100% (1162/1162), 41.51 MiB | 26.82 MiB/s, done.\n",
            "Resolving deltas: 100% (597/597), done.\n"
          ]
        }
      ]
    },
    {
      "cell_type": "code",
      "source": [
        "cd /content/RCALAD/"
      ],
      "metadata": {
        "colab": {
          "base_uri": "https://localhost:8080/"
        },
        "id": "llP3G29M7Aqa",
        "outputId": "d09afb22-a325-469a-a9d9-b71c6d7adf08"
      },
      "execution_count": 54,
      "outputs": [
        {
          "output_type": "stream",
          "name": "stdout",
          "text": [
            "/content/RCALAD\n"
          ]
        }
      ]
    },
    {
      "cell_type": "code",
      "source": [
        "ls"
      ],
      "metadata": {
        "colab": {
          "base_uri": "https://localhost:8080/"
        },
        "id": "6Tdh0nCD7M3-",
        "outputId": "fbd83c32-4120-4649-ef25-4ffb1c628c11"
      },
      "execution_count": 55,
      "outputs": [
        {
          "output_type": "stream",
          "name": "stdout",
          "text": [
            "\u001b[0m\u001b[01;34mdata\u001b[0m/  LICENSE  main.py  \u001b[01;34mmodel\u001b[0m/  README.md  requirements.txt  \u001b[01;34mutils\u001b[0m/\n"
          ]
        }
      ]
    },
    {
      "cell_type": "code",
      "source": [
        "!python main.py "
      ],
      "metadata": {
        "colab": {
          "base_uri": "https://localhost:8080/"
        },
        "id": "2Xo8FZAH6tYy",
        "outputId": "87d234a7-a644-4ba1-a78e-ab8c3a58f1a9"
      },
      "execution_count": 71,
      "outputs": [
        {
          "output_type": "stream",
          "name": "stdout",
          "text": [
            "\n",
            " ______   _____       _____       ____   \n",
            "|_     `.|_   _|     / ___ `.   .'    '. \n",
            "  | | `. \\ | |      |_/___) |  |  .--.  |\n",
            "  | |  | | | |   _   .'____.'  | |    | |\n",
            " _| |_.' /_| |__/ | / /_____  _|  `--'  |\n",
            "|______.'|________| |_______|(_)'.____.' \n",
            "                                         \n",
            "\n",
            "[10:25:46 INFO @AnomalyDetection] Running script at model.run\n",
            "[10:25:46 INFO @numexpr.utils] NumExpr defaulting to 2 threads.\n",
            "[10:25:49 WARNING @tensorflow] From /usr/local/lib/python3.7/dist-packages/tensorflow/python/compat/v2_compat.py:107: disable_resource_variables (from tensorflow.python.ops.variable_scope) is deprecated and will be removed in a future version.\n",
            "Instructions for updating:\n",
            "non-resource variables are not supported in the long term\n",
            "===========================================\n",
            "Data loading...\n",
            "Size of split train : 192\n",
            "size of data :  (192, 274)\n",
            "Size of split test : 226\n",
            "size of data :  (226, 274)\n",
            "(192, 274)\n",
            "Building graph...\n",
            "RCALAD is training with the following parameters:\n",
            "Number of Epochs:  1000\n",
            "Batch size:  32\n",
            "Starting learning rate:  1e-05\n",
            "EMA Decay:  0.999\n",
            "Degree for L norms:  2\n",
            "Anomalous label:  1\n",
            "Discriminator zz enabled:  True\n",
            "Spectral Norm enabled:  True\n",
            "Start training...\n",
            "Epoch 0 | time = 2s | loss gen = 24516264277.3333 | loss enc = 24524545365.3333 | loss dis = 715443114.6667 | loss dis xz = 13096294.3333 | loss dis xx = 368316752.0000 | loss dis zz = 40663480.6667 | loss dis xxzz = 293366586.6667 |\n",
            "Epoch 100 | time = 0s | loss gen = 7615175253.3333 | loss enc = 7631127125.3333 | loss dis = 1711663829.3333 | loss dis xz = 3880123.1667 | loss dis xx = 1457100469.3333 | loss dis zz = 41698941.3333 | loss dis xxzz = 208984294.6667 |\n",
            "Epoch 200 | time = 0s | loss gen = 5011581610.6667 | loss enc = 5032656810.6667 | loss dis = 2314711680.0000 | loss dis xz = 2109331.2240 | loss dis xx = 2054586496.0000 | loss dis zz = 37258779.3333 | loss dis xxzz = 220756989.3333 |\n",
            "Epoch 300 | time = 0s | loss gen = 3743651200.0000 | loss enc = 3773344149.3333 | loss dis = 2994569173.3333 | loss dis xz = 1062471.8646 | loss dis xx = 2679376981.3333 | loss dis zz = 34766692.0000 | loss dis xxzz = 279363037.3333 |\n",
            "Epoch 400 | time = 0s | loss gen = 3133949312.0000 | loss enc = 3166547114.6667 | loss dis = 2590662464.0000 | loss dis xz = 932518.7617 | loss dis xx = 2320566933.3333 | loss dis zz = 33881403.6667 | loss dis xxzz = 235281597.3333 |\n",
            "Epoch 500 | time = 0s | loss gen = 3424492245.3333 | loss enc = 3460543104.0000 | loss dis = 3043007402.6667 | loss dis xz = 700809.7760 | loss dis xx = 2760676330.6667 | loss dis zz = 28949447.6667 | loss dis xxzz = 252680776.0000 |\n",
            "Epoch 600 | time = 0s | loss gen = 2907422826.6667 | loss enc = 2946745216.0000 | loss dis = 2448870506.6667 | loss dis xz = 365594.6088 | loss dis xx = 2239217920.0000 | loss dis zz = 30201172.6667 | loss dis xxzz = 179085768.0000 |\n",
            "Epoch 700 | time = 0s | loss gen = 3063856981.3333 | loss enc = 3101859114.6667 | loss dis = 2536189760.0000 | loss dis xz = 229251.5377 | loss dis xx = 2322787072.0000 | loss dis zz = 31134221.6667 | loss dis xxzz = 182039171.3333 |\n",
            "Epoch 800 | time = 0s | loss gen = 2987598890.6667 | loss enc = 3027611392.0000 | loss dis = 2450329344.0000 | loss dis xz = 166370.5616 | loss dis xx = 2241269994.6667 | loss dis zz = 27569363.5000 | loss dis xxzz = 181323642.6667 |\n",
            "Epoch 900 | time = 0s | loss gen = 3168479488.0000 | loss enc = 3206208256.0000 | loss dis = 2556491520.0000 | loss dis xz = 475084.5671 | loss dis xx = 2351726997.3333 | loss dis zz = 25021415.6667 | loss dis xxzz = 179267948.0000 |\n",
            "Testing evaluation...\n",
            "Testing : mean inference time is 0.0528\n",
            "----------------------------\n",
            "Testing with method fm_xxzz: Prec = 0.4118 | Rec = 0.4375 | F1 = 0.4242\n",
            "----------------------------\n",
            "Testing with method logits_all: Prec = 0.4706 | Rec = 0.5000 | F1 = 0.4848\n",
            "-------------------------------------------\n",
            "Describe Result for  fm_xxzz  scoring\n",
            "   precision  recall        f1   roc_auc\n",
            "0   0.411765  0.4375  0.424242  0.717784\n",
            "-------------------------------------------\n",
            "Describe Result for  logits_all  scoring\n",
            "   precision  recall        f1   roc_auc\n",
            "0   0.470588     0.5  0.484848  0.780767\n"
          ]
        }
      ]
    }
  ]
}