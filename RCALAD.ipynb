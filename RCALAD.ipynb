{
  "nbformat": 4,
  "nbformat_minor": 0,
  "metadata": {
    "colab": {
      "name": "RCALAD.ipynb",
      "provenance": [],
      "include_colab_link": true
    },
    "kernelspec": {
      "name": "python3",
      "display_name": "Python 3"
    },
    "language_info": {
      "name": "python"
    },
    "accelerator": "GPU",
    "gpuClass": "standard"
  },
  "cells": [
    {
      "cell_type": "markdown",
      "metadata": {
        "id": "view-in-github",
        "colab_type": "text"
      },
      "source": [
        "<a href=\"https://colab.research.google.com/github/zahraDehghanian97/RCALAD/blob/RCALAD/RCALAD.ipynb\" target=\"_parent\"><img src=\"https://colab.research.google.com/assets/colab-badge.svg\" alt=\"Open In Colab\"/></a>"
      ]
    },
    {
      "cell_type": "markdown",
      "metadata": {
        "id": "4P_jI5lleO06"
      },
      "source": [
        "Mount google drive"
      ]
    },
    {
      "cell_type": "code",
      "source": [
        "from google.colab import drive\n",
        "drive.mount('/content/drive')"
      ],
      "metadata": {
        "id": "whAe_GLI5EKM",
        "outputId": "7a7de5d2-a729-4cb1-857f-f42f4c428d62",
        "colab": {
          "base_uri": "https://localhost:8080/"
        }
      },
      "execution_count": 2,
      "outputs": [
        {
          "output_type": "stream",
          "name": "stdout",
          "text": [
            "Mounted at /content/drive\n"
          ]
        }
      ]
    },
    {
      "cell_type": "code",
      "source": [
        "cd ../../"
      ],
      "metadata": {
        "colab": {
          "base_uri": "https://localhost:8080/"
        },
        "id": "OTWusbdu-YGk",
        "outputId": "c72e47e9-4b9d-4205-8d3e-c328c7e9ab85"
      },
      "execution_count": 11,
      "outputs": [
        {
          "output_type": "stream",
          "name": "stdout",
          "text": [
            "/content\n"
          ]
        }
      ]
    },
    {
      "cell_type": "code",
      "source": [
        "!rm -rf RCALAD"
      ],
      "metadata": {
        "id": "9jlL36gE-A3C"
      },
      "execution_count": 13,
      "outputs": []
    },
    {
      "cell_type": "code",
      "source": [
        "ls"
      ],
      "metadata": {
        "colab": {
          "base_uri": "https://localhost:8080/"
        },
        "id": "i2SLbhh6-CiE",
        "outputId": "f2d17cf7-04e4-495f-e317-e9f49df0c231"
      },
      "execution_count": 14,
      "outputs": [
        {
          "output_type": "stream",
          "name": "stdout",
          "text": [
            "\u001b[0m\u001b[01;34mdrive\u001b[0m/  \u001b[01;34msample_data\u001b[0m/  \u001b[01;34mtrain_logs\u001b[0m/\n"
          ]
        }
      ]
    },
    {
      "cell_type": "code",
      "source": [
        "!git clone https://github.com/zahraDehghanian97/RCALAD"
      ],
      "metadata": {
        "colab": {
          "base_uri": "https://localhost:8080/"
        },
        "id": "0I_7oUdl6hMd",
        "outputId": "92f6e077-345d-407e-e4f3-aeb82644bc4a"
      },
      "execution_count": 15,
      "outputs": [
        {
          "output_type": "stream",
          "name": "stdout",
          "text": [
            "Cloning into 'RCALAD'...\n",
            "remote: Enumerating objects: 1192, done.\u001b[K\n",
            "remote: Counting objects: 100% (1127/1127), done.\u001b[K\n",
            "remote: Compressing objects: 100% (554/554), done.\u001b[K\n",
            "remote: Total 1192 (delta 595), reused 1037 (delta 533), pack-reused 65\u001b[K\n",
            "Receiving objects: 100% (1192/1192), 41.52 MiB | 32.24 MiB/s, done.\n",
            "Resolving deltas: 100% (617/617), done.\n"
          ]
        }
      ]
    },
    {
      "cell_type": "code",
      "source": [
        "cd /content/RCALAD/model"
      ],
      "metadata": {
        "id": "ZPA0nWNH6GtM",
        "outputId": "4c7a4c8f-08c7-449f-d521-457d6679a240",
        "colab": {
          "base_uri": "https://localhost:8080/"
        }
      },
      "execution_count": 16,
      "outputs": [
        {
          "output_type": "stream",
          "name": "stdout",
          "text": [
            "/content/RCALAD/model\n"
          ]
        }
      ]
    },
    {
      "cell_type": "code",
      "source": [
        "ls"
      ],
      "metadata": {
        "colab": {
          "base_uri": "https://localhost:8080/"
        },
        "id": "6Tdh0nCD7M3-",
        "outputId": "6eea0eb8-6186-4932-ea97-c7eb65eb66a8"
      },
      "execution_count": 17,
      "outputs": [
        {
          "output_type": "stream",
          "name": "stdout",
          "text": [
            "arrhythmia_utilities.py  kdd_utilities.py  \u001b[0m\u001b[01;34mresults\u001b[0m/  svhn_utilities.py\n",
            "cifar10_utilities.py     \u001b[01;34m__pycache__\u001b[0m/      run.py\n"
          ]
        }
      ]
    },
    {
      "cell_type": "code",
      "source": [
        "!python run.py "
      ],
      "metadata": {
        "colab": {
          "base_uri": "https://localhost:8080/"
        },
        "id": "2Xo8FZAH6tYy",
        "outputId": "b9362ace-4a14-48a9-c65a-f339443d5659"
      },
      "execution_count": 24,
      "outputs": [
        {
          "output_type": "stream",
          "name": "stdout",
          "text": [
            "WARNING:tensorflow:From /usr/local/lib/python3.8/dist-packages/tensorflow/python/compat/v2_compat.py:107: disable_resource_variables (from tensorflow.python.ops.variable_scope) is deprecated and will be removed in a future version.\n",
            "Instructions for updating:\n",
            "non-resource variables are not supported in the long term\n",
            "WARNING:tensorflow:From /usr/local/lib/python3.8/dist-packages/tensorflow/python/compat/v2_compat.py:107: disable_resource_variables (from tensorflow.python.ops.variable_scope) is deprecated and will be removed in a future version.\n",
            "Instructions for updating:\n",
            "non-resource variables are not supported in the long term\n",
            "Data loading...\n",
            "(3580, 32, 32, 3)\n",
            "Building graph...\n",
            "RCALAD is training with the following parameters:\n",
            "Number of Epochs:  100\n",
            "Batch size:  32\n",
            "Starting learning rate:  0.0002\n",
            "EMA Decay:  0.999\n",
            "Degree for L norms:  2\n",
            "Anomalous label:  1\n",
            "Spectral Norm enabled:  False\n",
            "Start training...\n",
            "Epoch 0 | time = 20s | loss gen = 3.0762 | loss enc = 2.1198 | loss dis = 4.6151 | loss dis xz = 1.1334 | loss dis xx = 1.0884 | loss dis zz = 1.3711 | loss dis xxzz = 1.0223 |\n",
            "Epoch 10 | time = 16s | loss gen = 2.7873 | loss enc = 2.1203 | loss dis = 1.7237 | loss dis xz = 0.8077 | loss dis xx = 0.8195 | loss dis zz = 0.0590 | loss dis xxzz = 0.0375 |\n",
            "Epoch 20 | time = 16s | loss gen = 3.1677 | loss enc = 2.7720 | loss dis = 1.7289 | loss dis xz = 0.6925 | loss dis xx = 0.9853 | loss dis zz = 0.0134 | loss dis xxzz = 0.0376 |\n",
            "Epoch 30 | time = 16s | loss gen = 3.4735 | loss enc = 3.1213 | loss dis = 1.6760 | loss dis xz = 0.5859 | loss dis xx = 1.0415 | loss dis zz = 0.0061 | loss dis xxzz = 0.0425 |\n",
            "Epoch 40 | time = 16s | loss gen = 3.9942 | loss enc = 3.6546 | loss dis = 1.6505 | loss dis xz = 0.5261 | loss dis xx = 1.0644 | loss dis zz = 0.0042 | loss dis xxzz = 0.0557 |\n",
            "Epoch 50 | time = 16s | loss gen = 4.6287 | loss enc = 4.1734 | loss dis = 1.4881 | loss dis xz = 0.4304 | loss dis xx = 1.0054 | loss dis zz = 0.0064 | loss dis xxzz = 0.0459 |\n",
            "Epoch 60 | time = 16s | loss gen = 4.7616 | loss enc = 4.5020 | loss dis = 1.5696 | loss dis xz = 0.4803 | loss dis xx = 1.0458 | loss dis zz = 0.0020 | loss dis xxzz = 0.0415 |\n",
            "Epoch 70 | time = 16s | loss gen = 5.5321 | loss enc = 5.1533 | loss dis = 1.3696 | loss dis xz = 0.3626 | loss dis xx = 0.9591 | loss dis zz = 0.0029 | loss dis xxzz = 0.0449 |\n",
            "Epoch 80 | time = 16s | loss gen = 5.7961 | loss enc = 5.6264 | loss dis = 1.3167 | loss dis xz = 0.3114 | loss dis xx = 0.9657 | loss dis zz = 0.0036 | loss dis xxzz = 0.0359 |\n",
            "Epoch 90 | time = 16s | loss gen = 4.9567 | loss enc = 5.1419 | loss dis = 1.1465 | loss dis xz = 0.3080 | loss dis xx = 0.8023 | loss dis zz = 0.0033 | loss dis xxzz = 0.0329 |\n",
            "Testing evaluation...\n",
            "Testing : mean inference time is 0.0398\n",
            "----------------------------\n",
            "Testing with method fm_xxzz: AUROC = 0.6078\n"
          ]
        }
      ]
    }
  ]
}