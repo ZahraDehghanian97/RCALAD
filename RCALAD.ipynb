{
  "nbformat": 4,
  "nbformat_minor": 0,
  "metadata": {
    "colab": {
      "name": "RCALAD.ipynb",
      "provenance": [],
      "collapsed_sections": [],
      "authorship_tag": "ABX9TyOIJunCo2O0j0DpJJYVBB2v",
      "include_colab_link": true
    },
    "kernelspec": {
      "name": "python3",
      "display_name": "Python 3"
    },
    "language_info": {
      "name": "python"
    },
    "accelerator": "GPU",
    "gpuClass": "standard"
  },
  "cells": [
    {
      "cell_type": "markdown",
      "metadata": {
        "id": "view-in-github",
        "colab_type": "text"
      },
      "source": [
        "<a href=\"https://colab.research.google.com/github/zahraDehghanian97/RCALAD/blob/RCALAD/RCALAD.ipynb\" target=\"_parent\"><img src=\"https://colab.research.google.com/assets/colab-badge.svg\" alt=\"Open In Colab\"/></a>"
      ]
    },
    {
      "cell_type": "markdown",
      "metadata": {
        "id": "4P_jI5lleO06"
      },
      "source": [
        "Mount google drive"
      ]
    },
    {
      "cell_type": "code",
      "source": [
        "cd ../"
      ],
      "metadata": {
        "colab": {
          "base_uri": "https://localhost:8080/"
        },
        "id": "OTWusbdu-YGk",
        "outputId": "0a67421b-dac1-4820-ebe3-be1f462c5487"
      },
      "execution_count": 50,
      "outputs": [
        {
          "output_type": "stream",
          "name": "stdout",
          "text": [
            "/content\n"
          ]
        }
      ]
    },
    {
      "cell_type": "code",
      "source": [
        "!rm -rf RCALAD"
      ],
      "metadata": {
        "id": "9jlL36gE-A3C"
      },
      "execution_count": 51,
      "outputs": []
    },
    {
      "cell_type": "code",
      "source": [
        "ls"
      ],
      "metadata": {
        "colab": {
          "base_uri": "https://localhost:8080/"
        },
        "id": "i2SLbhh6-CiE",
        "outputId": "135d774d-e8ff-4f0d-ac8d-c7602ed8f755"
      },
      "execution_count": 52,
      "outputs": [
        {
          "output_type": "stream",
          "name": "stdout",
          "text": [
            "\u001b[0m\u001b[01;34msample_data\u001b[0m/\n"
          ]
        }
      ]
    },
    {
      "cell_type": "code",
      "source": [
        "!git clone https://github.com/zahraDehghanian97/RCALAD"
      ],
      "metadata": {
        "colab": {
          "base_uri": "https://localhost:8080/"
        },
        "id": "0I_7oUdl6hMd",
        "outputId": "35c5dcfe-cbba-494d-fe2a-150f0a4f5d28"
      },
      "execution_count": 1,
      "outputs": [
        {
          "output_type": "stream",
          "name": "stdout",
          "text": [
            "Cloning into 'RCALAD'...\n",
            "remote: Enumerating objects: 1174, done.\u001b[K\n",
            "remote: Counting objects: 100% (1109/1109), done.\u001b[K\n",
            "remote: Compressing objects: 100% (536/536), done.\u001b[K\n",
            "remote: Total 1174 (delta 582), reused 1040 (delta 533), pack-reused 65\u001b[K\n",
            "Receiving objects: 100% (1174/1174), 41.52 MiB | 25.66 MiB/s, done.\n",
            "Resolving deltas: 100% (604/604), done.\n"
          ]
        }
      ]
    },
    {
      "cell_type": "code",
      "source": [
        "cd /content/RCALAD/"
      ],
      "metadata": {
        "colab": {
          "base_uri": "https://localhost:8080/"
        },
        "id": "llP3G29M7Aqa",
        "outputId": "ed2cf9e4-d6ba-44c5-fa6f-5af699a4d05f"
      },
      "execution_count": 2,
      "outputs": [
        {
          "output_type": "stream",
          "name": "stdout",
          "text": [
            "/content/RCALAD\n"
          ]
        }
      ]
    },
    {
      "cell_type": "code",
      "source": [
        "ls"
      ],
      "metadata": {
        "colab": {
          "base_uri": "https://localhost:8080/"
        },
        "id": "6Tdh0nCD7M3-",
        "outputId": "fbd83c32-4120-4649-ef25-4ffb1c628c11"
      },
      "execution_count": 55,
      "outputs": [
        {
          "output_type": "stream",
          "name": "stdout",
          "text": [
            "\u001b[0m\u001b[01;34mdata\u001b[0m/  LICENSE  main.py  \u001b[01;34mmodel\u001b[0m/  README.md  requirements.txt  \u001b[01;34mutils\u001b[0m/\n"
          ]
        }
      ]
    },
    {
      "cell_type": "code",
      "source": [
        "!python main.py "
      ],
      "metadata": {
        "colab": {
          "base_uri": "https://localhost:8080/"
        },
        "id": "2Xo8FZAH6tYy",
        "outputId": "3f4d8cc1-abf8-4fd9-a6e2-35e34a2c1353"
      },
      "execution_count": 3,
      "outputs": [
        {
          "output_type": "stream",
          "name": "stdout",
          "text": [
            "\n",
            " ______   _____       _____       ____   \n",
            "|_     `.|_   _|     / ___ `.   .'    '. \n",
            "  | | `. \\ | |      |_/___) |  |  .--.  |\n",
            "  | |  | | | |   _   .'____.'  | |    | |\n",
            " _| |_.' /_| |__/ | / /_____  _|  `--'  |\n",
            "|______.'|________| |_______|(_)'.____.' \n",
            "                                         \n",
            "\n",
            "[12:17:57 INFO @AnomalyDetection] Running script at model.run\n",
            "[12:17:57 INFO @numexpr.utils] NumExpr defaulting to 2 threads.\n",
            "[12:18:00 WARNING @tensorflow] From /usr/local/lib/python3.7/dist-packages/tensorflow/python/compat/v2_compat.py:107: disable_resource_variables (from tensorflow.python.ops.variable_scope) is deprecated and will be removed in a future version.\n",
            "Instructions for updating:\n",
            "non-resource variables are not supported in the long term\n",
            "===========================================\n",
            "Data loading...\n",
            "Size of split train : 192\n",
            "size of data :  (192, 274)\n",
            "Size of split test : 226\n",
            "size of data :  (226, 274)\n",
            "(192, 274)\n",
            "Building graph...\n",
            "RCALAD is training with the following parameters:\n",
            "Number of Epochs:  1000\n",
            "Batch size:  32\n",
            "Starting learning rate:  1e-05\n",
            "EMA Decay:  0.999\n",
            "Degree for L norms:  2\n",
            "Anomalous label:  1\n",
            "Spectral Norm enabled:  True\n",
            "Start training...\n",
            "Epoch 0 | time = 4s | loss gen = 2632390400.0000 | loss enc = 2645134293.3333 | loss dis = 10292853504.0000 | loss dis xz = 15575150.0000 | loss dis xx = 9600181418.6667 | loss dis zz = 6833336.3958 | loss dis xxzz = 670263482.6667 |\n",
            "Epoch 100 | time = 0s | loss gen = 790590682.6667 | loss enc = 816912085.3333 | loss dis = 17127754069.3333 | loss dis xz = 6619107.4167 | loss dis xx = 16255069866.6667 | loss dis zz = 14841475.3333 | loss dis xxzz = 851223594.6667 |\n",
            "Epoch 200 | time = 0s | loss gen = 921134229.3333 | loss enc = 959617989.3333 | loss dis = 14806258346.6667 | loss dis xz = 4720993.4583 | loss dis xx = 14051736917.3333 | loss dis zz = 17668879.3333 | loss dis xxzz = 732131989.3333 |\n",
            "Epoch 300 | time = 0s | loss gen = 1459385557.3333 | loss enc = 1502879941.3333 | loss dis = 11480164864.0000 | loss dis xz = 1755998.1354 | loss dis xx = 10719263061.3333 | loss dis zz = 19748512.0000 | loss dis xxzz = 739396917.3333 |\n",
            "Epoch 400 | time = 0s | loss gen = 1179564192.0000 | loss enc = 1221528773.3333 | loss dis = 9364635306.6667 | loss dis xz = 2033077.3659 | loss dis xx = 8595528277.3333 | loss dis zz = 24630835.1667 | loss dis xxzz = 742443242.6667 |\n",
            "Epoch 500 | time = 0s | loss gen = 2183351306.6667 | loss enc = 2230555946.6667 | loss dis = 6955776768.0000 | loss dis xz = 958574.6849 | loss dis xx = 6258928298.6667 | loss dis zz = 26129545.3333 | loss dis xxzz = 669760288.0000 |\n",
            "Epoch 600 | time = 0s | loss gen = 2824855637.3333 | loss enc = 2873904810.6667 | loss dis = 6825209002.6667 | loss dis xz = 346397.8539 | loss dis xx = 6036677888.0000 | loss dis zz = 30406258.3333 | loss dis xxzz = 757778506.6667 |\n",
            "Epoch 700 | time = 0s | loss gen = 2039926976.0000 | loss enc = 2092568405.3333 | loss dis = 6131028053.3333 | loss dis xz = 510317.7664 | loss dis xx = 5366900480.0000 | loss dis zz = 31141167.6667 | loss dis xxzz = 732476224.0000 |\n",
            "Epoch 800 | time = 0s | loss gen = 2393918016.0000 | loss enc = 2448737685.3333 | loss dis = 4865247104.0000 | loss dis xz = 247886.4968 | loss dis xx = 4066796416.0000 | loss dis zz = 34762899.0000 | loss dis xxzz = 763439829.3333 |\n",
            "Epoch 900 | time = 0s | loss gen = 2188254741.3333 | loss enc = 2249575466.6667 | loss dis = 4680475818.6667 | loss dis xz = 139105.2244 | loss dis xx = 3856342741.3333 | loss dis zz = 29230640.6667 | loss dis xxzz = 794763349.3333 |\n",
            "Testing evaluation...\n",
            "Testing : mean inference time is 0.0538\n",
            "----------------------------\n",
            "Testing with method fm_xxzz: Prec = 0.4118 | Rec = 0.4375 | F1 = 0.4242\n",
            "----------------------------\n",
            "Testing with method logits_all: Prec = 0.5588 | Rec = 0.5938 | F1 = 0.5758\n",
            "-------------------------------------------\n",
            "Describe Result for  fm_xxzz  scoring\n",
            "   precision  recall        f1   roc_auc\n",
            "0   0.411765  0.4375  0.424242  0.634343\n",
            "-------------------------------------------\n",
            "Describe Result for  logits_all  scoring\n",
            "   precision   recall        f1   roc_auc\n",
            "0   0.558824  0.59375  0.575758  0.755638\n"
          ]
        }
      ]
    }
  ]
}